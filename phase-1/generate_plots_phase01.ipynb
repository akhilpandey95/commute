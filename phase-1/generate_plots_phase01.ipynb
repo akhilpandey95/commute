{
 "cells": [
  {
   "cell_type": "markdown",
   "metadata": {},
   "source": [
    "# Generating plots for `project00` phase1"
   ]
  },
  {
   "cell_type": "markdown",
   "metadata": {},
   "source": [
    "### 1. Import libraries"
   ]
  },
  {
   "cell_type": "code",
   "execution_count": 1,
   "metadata": {},
   "outputs": [],
   "source": [
    "import os\n",
    "import numpy as np\n",
    "import pandas as pd\n",
    "import seaborn as sns\n",
    "from datetime import datetime\n",
    "from datetime import timedelta\n",
    "import matplotlib.pyplot as plt\n",
    "from matplotlib.pyplot import figure"
   ]
  },
  {
   "cell_type": "markdown",
   "metadata": {},
   "source": [
    "### 2. Read the data"
   ]
  },
  {
   "cell_type": "code",
   "execution_count": 2,
   "metadata": {},
   "outputs": [],
   "source": [
    "# change the working directory\n",
    "os.chdir('/Users/akhil/code/csci627-project00-akhilpandey95/data/')\n",
    "\n",
    "# read the csv into a dataframe\n",
    "data = pd.read_csv('phase_one_z1835018.csv')"
   ]
  },
  {
   "cell_type": "markdown",
   "metadata": {},
   "source": [
    "### 3. Preprocessing the dataframe"
   ]
  },
  {
   "cell_type": "markdown",
   "metadata": {},
   "source": [
    "#### 3.1 Drop unnecessary columns"
   ]
  },
  {
   "cell_type": "code",
   "execution_count": 3,
   "metadata": {},
   "outputs": [
    {
     "data": {
      "text/html": [
       "<div>\n",
       "<style scoped>\n",
       "    .dataframe tbody tr th:only-of-type {\n",
       "        vertical-align: middle;\n",
       "    }\n",
       "\n",
       "    .dataframe tbody tr th {\n",
       "        vertical-align: top;\n",
       "    }\n",
       "\n",
       "    .dataframe thead th {\n",
       "        text-align: right;\n",
       "    }\n",
       "</style>\n",
       "<table border=\"1\" class=\"dataframe\">\n",
       "  <thead>\n",
       "    <tr style=\"text-align: right;\">\n",
       "      <th></th>\n",
       "      <th>building</th>\n",
       "      <th>day</th>\n",
       "      <th>didicode</th>\n",
       "      <th>distancefromhome</th>\n",
       "      <th>in</th>\n",
       "      <th>modeoftransport</th>\n",
       "      <th>out</th>\n",
       "      <th>reason</th>\n",
       "      <th>rhr</th>\n",
       "      <th>screentime</th>\n",
       "      <th>weather</th>\n",
       "      <th>wind</th>\n",
       "    </tr>\n",
       "  </thead>\n",
       "  <tbody>\n",
       "    <tr>\n",
       "      <th>0</th>\n",
       "      <td>Student Recreation Center</td>\n",
       "      <td>02-03-2019</td>\n",
       "      <td>no</td>\n",
       "      <td>1.2</td>\n",
       "      <td>19:43</td>\n",
       "      <td>walk</td>\n",
       "      <td>21:09</td>\n",
       "      <td>running, sauna</td>\n",
       "      <td>101</td>\n",
       "      <td>00:11</td>\n",
       "      <td>38</td>\n",
       "      <td>9</td>\n",
       "    </tr>\n",
       "    <tr>\n",
       "      <th>1</th>\n",
       "      <td>Founders Memorial Library</td>\n",
       "      <td>02-04-2019</td>\n",
       "      <td>no</td>\n",
       "      <td>1.7</td>\n",
       "      <td>13:11</td>\n",
       "      <td>walk + bus</td>\n",
       "      <td>13:51</td>\n",
       "      <td>lunch, trying out einstein bagels</td>\n",
       "      <td>71</td>\n",
       "      <td>00:24</td>\n",
       "      <td>42</td>\n",
       "      <td>15</td>\n",
       "    </tr>\n",
       "    <tr>\n",
       "      <th>2</th>\n",
       "      <td>Psy-Math Building</td>\n",
       "      <td>02-04-2019</td>\n",
       "      <td>yes</td>\n",
       "      <td>1.8</td>\n",
       "      <td>14:03</td>\n",
       "      <td>walk</td>\n",
       "      <td>15:33</td>\n",
       "      <td>PM 254 - Data lab, research</td>\n",
       "      <td>66</td>\n",
       "      <td>01:10</td>\n",
       "      <td>40</td>\n",
       "      <td>17</td>\n",
       "    </tr>\n",
       "    <tr>\n",
       "      <th>3</th>\n",
       "      <td>Psy-Math Building</td>\n",
       "      <td>02-04-2019</td>\n",
       "      <td>no</td>\n",
       "      <td>1.8</td>\n",
       "      <td>16:56</td>\n",
       "      <td>walk</td>\n",
       "      <td>18:24</td>\n",
       "      <td>CSCI 627, lecture</td>\n",
       "      <td>68</td>\n",
       "      <td>00:03</td>\n",
       "      <td>33</td>\n",
       "      <td>12</td>\n",
       "    </tr>\n",
       "    <tr>\n",
       "      <th>4</th>\n",
       "      <td>Student Recreation Center</td>\n",
       "      <td>02-04-2019</td>\n",
       "      <td>no</td>\n",
       "      <td>1.2</td>\n",
       "      <td>20:20</td>\n",
       "      <td>walk</td>\n",
       "      <td>22:16</td>\n",
       "      <td>rowing, sauna</td>\n",
       "      <td>112</td>\n",
       "      <td>00:10</td>\n",
       "      <td>29</td>\n",
       "      <td>21</td>\n",
       "    </tr>\n",
       "  </tbody>\n",
       "</table>\n",
       "</div>"
      ],
      "text/plain": [
       "                    building         day didicode  distancefromhome     in  \\\n",
       "0  Student Recreation Center  02-03-2019       no               1.2  19:43   \n",
       "1  Founders Memorial Library  02-04-2019       no               1.7  13:11   \n",
       "2          Psy-Math Building  02-04-2019      yes               1.8  14:03   \n",
       "3          Psy-Math Building  02-04-2019       no               1.8  16:56   \n",
       "4  Student Recreation Center  02-04-2019       no               1.2  20:20   \n",
       "\n",
       "  modeoftransport    out                             reason  rhr screentime  \\\n",
       "0            walk  21:09                     running, sauna  101      00:11   \n",
       "1      walk + bus  13:51  lunch, trying out einstein bagels   71      00:24   \n",
       "2            walk  15:33        PM 254 - Data lab, research   66      01:10   \n",
       "3            walk  18:24                  CSCI 627, lecture   68      00:03   \n",
       "4            walk  22:16                      rowing, sauna  112      00:10   \n",
       "\n",
       "   weather  wind  \n",
       "0       38     9  \n",
       "1       42    15  \n",
       "2       40    17  \n",
       "3       33    12  \n",
       "4       29    21  "
      ]
     },
     "execution_count": 3,
     "metadata": {},
     "output_type": "execute_result"
    }
   ],
   "source": [
    "# drop the '_id' column\n",
    "data = data.drop(['_id'], axis=1)\n",
    "\n",
    "# display the head of the data\n",
    "data.head()"
   ]
  },
  {
   "cell_type": "markdown",
   "metadata": {},
   "source": [
    "#### 3.2 Functions for extracting information from the dataframe"
   ]
  },
  {
   "cell_type": "code",
   "execution_count": 4,
   "metadata": {},
   "outputs": [],
   "source": [
    "# function for getting the total value from a column\n",
    "perform_map = lambda x, y: sum(list(map(x, y)))\n",
    "\n",
    "# function for extracting time information from\n",
    "# the screentime column and return the time in hours\n",
    "get_minutes = lambda x: int(x.split(\":\")[0]) * 60 + int(x.split(\":\")[1])\n",
    "\n",
    "# function for identifying the number of hours between\n",
    "# two given timestamps\n",
    "def get_time(time_string_a, time_string_b):\n",
    "    # set the time format\n",
    "    FMT = '%H:%M'\n",
    "    \n",
    "    # create the timedelta calculating the difference between the\n",
    "    # two time strings\n",
    "    tdelta = datetime.strptime(time_string_b, FMT) - datetime.strptime(time_string_a, FMT)\n",
    "    \n",
    "    # if timedelta gives us a negative result then we have to\n",
    "    # take then account\n",
    "    if tdelta.days < 0:\n",
    "        # create the time delta\n",
    "        tdelta = timedelta(days=0, seconds=tdelta.seconds, microseconds=tdelta.microseconds)\n",
    "        \n",
    "        # separate the hours and minutes and create a string\n",
    "        total_seconds = tdelta.total_seconds()\n",
    "        h = totsec//3600\n",
    "        m = (totsec%3600) // 60\n",
    "        \n",
    "        # return the value in hours\n",
    "        return round(h + m/60, 2)\n",
    "    else:\n",
    "        # separate the hours and minutes and create a string\n",
    "        secs = tdelta.total_seconds()\n",
    "        h_2 = secs//3600\n",
    "        m_2 = (secs%3600) // 60\n",
    "        \n",
    "        # return the value in hours\n",
    "        return round(h_2 + m_2/60, 2)"
   ]
  },
  {
   "cell_type": "markdown",
   "metadata": {},
   "source": [
    "#### 3.3 Print out essential numerical stats from the column"
   ]
  },
  {
   "cell_type": "code",
   "execution_count": 5,
   "metadata": {},
   "outputs": [
    {
     "name": "stdout",
     "output_type": "stream",
     "text": [
      "Total distance: 26.4\n",
      "Total screentime for the week: 959\n",
      "Average screentime per day: 137.0\n"
     ]
    }
   ],
   "source": [
    "# get the information about total distance\n",
    "print(\"Total distance:\", perform_map(float, data['distancefromhome']))\n",
    "\n",
    "# get the total screen time in hours\n",
    "print(\"Total screentime for the week:\", perform_map(get_minutes, data['screentime']))\n",
    "\n",
    "# get the average screen time\n",
    "print(\"Average screentime per day:\", perform_map(get_minutes, data['screentime'])/7)"
   ]
  },
  {
   "cell_type": "markdown",
   "metadata": {},
   "source": [
    "### 4. Generate plots"
   ]
  },
  {
   "cell_type": "code",
   "execution_count": 6,
   "metadata": {},
   "outputs": [
    {
     "data": {
      "image/png": "[encoded data removed]",
      "text/plain": [
       "<Figure size 1008x720 with 1 Axes>"
      ]
     },
     "metadata": {},
     "output_type": "display_data"
    }
   ],
   "source": [
    "# set the background to black\n",
    "plt.style.use('dark_background')\n",
    "\n",
    "# set the values\n",
    "values = [[2.4, 0.0], \n",
    "          [2.2, 3.0], \n",
    "          [0.6, 2.8], \n",
    "          [3.0, 5.0], \n",
    "          [0.2, 3.3], \n",
    "          [0.3, 3.5]]\n",
    "\n",
    "# set the date range for the date values\n",
    "dates = pd.date_range(\"2 3 2018\", periods=6, freq=\"D\")\n",
    "data_1 = pd.DataFrame(values, dates, columns=[\"walk\", \"bus\"])\n",
    "\n",
    "# set the size of the plot\n",
    "plt.gcf().set_size_inches(14, 10)\n",
    "\n",
    "# draw the lineplot\n",
    "sns.lineplot(data=data_1, palette=\"tab10\", hue='modeoftransport', linewidth=3.5)\n",
    "# plt.savefig('plot_phase1_p_1.png', dpi=300)\n",
    "plt.show()"
   ]
  },
  {
   "cell_type": "code",
   "execution_count": 7,
   "metadata": {},
   "outputs": [
    {
     "ename": "NameError",
     "evalue": "name 'totsec' is not defined",
     "output_type": "error",
     "traceback": [
      "\u001b[0;31m---------------------------------------------------------------------------\u001b[0m",
      "\u001b[0;31mNameError\u001b[0m                                 Traceback (most recent call last)",
      "\u001b[0;32m<ipython-input-7-f6fd278205ce>\u001b[0m in \u001b[0;36m<module>\u001b[0;34m()\u001b[0m\n\u001b[1;32m      1\u001b[0m \u001b[0;31m# set the values\u001b[0m\u001b[0;34m\u001b[0m\u001b[0;34m\u001b[0m\u001b[0m\n\u001b[0;32m----> 2\u001b[0;31m \u001b[0mdata_2\u001b[0m \u001b[0;34m=\u001b[0m \u001b[0mdata\u001b[0m\u001b[0;34m.\u001b[0m\u001b[0massign\u001b[0m\u001b[0;34m(\u001b[0m\u001b[0mvalues\u001b[0m \u001b[0;34m=\u001b[0m \u001b[0;34m[\u001b[0m\u001b[0mget_time\u001b[0m\u001b[0;34m(\u001b[0m\u001b[0mdata\u001b[0m\u001b[0;34m[\u001b[0m\u001b[0;34m'in'\u001b[0m\u001b[0;34m]\u001b[0m\u001b[0;34m[\u001b[0m\u001b[0mx\u001b[0m\u001b[0;34m]\u001b[0m\u001b[0;34m,\u001b[0m \u001b[0mdata\u001b[0m\u001b[0;34m[\u001b[0m\u001b[0;34m'out'\u001b[0m\u001b[0;34m]\u001b[0m\u001b[0;34m[\u001b[0m\u001b[0mx\u001b[0m\u001b[0;34m]\u001b[0m\u001b[0;34m)\u001b[0m \u001b[0;32mfor\u001b[0m \u001b[0mx\u001b[0m \u001b[0;32min\u001b[0m \u001b[0mrange\u001b[0m\u001b[0;34m(\u001b[0m\u001b[0mlen\u001b[0m\u001b[0;34m(\u001b[0m\u001b[0mdata\u001b[0m\u001b[0;34m)\u001b[0m\u001b[0;34m)\u001b[0m\u001b[0;34m]\u001b[0m\u001b[0;34m)\u001b[0m\u001b[0;34m\u001b[0m\u001b[0m\n\u001b[0m\u001b[1;32m      3\u001b[0m \u001b[0;34m\u001b[0m\u001b[0m\n\u001b[1;32m      4\u001b[0m \u001b[0;31m# group the dates with the total screentime hours\u001b[0m\u001b[0;34m\u001b[0m\u001b[0;34m\u001b[0m\u001b[0m\n\u001b[1;32m      5\u001b[0m \u001b[0mdata_2\u001b[0m \u001b[0;34m=\u001b[0m \u001b[0mpd\u001b[0m\u001b[0;34m.\u001b[0m\u001b[0mDataFrame\u001b[0m\u001b[0;34m(\u001b[0m\u001b[0mdata_2\u001b[0m\u001b[0;34m.\u001b[0m\u001b[0mgroupby\u001b[0m\u001b[0;34m(\u001b[0m\u001b[0;34m[\u001b[0m\u001b[0;34m'day'\u001b[0m\u001b[0;34m]\u001b[0m\u001b[0;34m)\u001b[0m\u001b[0;34m[\u001b[0m\u001b[0;34m'values'\u001b[0m\u001b[0;34m]\u001b[0m\u001b[0;34m.\u001b[0m\u001b[0msum\u001b[0m\u001b[0;34m(\u001b[0m\u001b[0;34m)\u001b[0m\u001b[0;34m)\u001b[0m\u001b[0;34m\u001b[0m\u001b[0m\n",
      "\u001b[0;32m<ipython-input-7-f6fd278205ce>\u001b[0m in \u001b[0;36m<listcomp>\u001b[0;34m(.0)\u001b[0m\n\u001b[1;32m      1\u001b[0m \u001b[0;31m# set the values\u001b[0m\u001b[0;34m\u001b[0m\u001b[0;34m\u001b[0m\u001b[0m\n\u001b[0;32m----> 2\u001b[0;31m \u001b[0mdata_2\u001b[0m \u001b[0;34m=\u001b[0m \u001b[0mdata\u001b[0m\u001b[0;34m.\u001b[0m\u001b[0massign\u001b[0m\u001b[0;34m(\u001b[0m\u001b[0mvalues\u001b[0m \u001b[0;34m=\u001b[0m \u001b[0;34m[\u001b[0m\u001b[0mget_time\u001b[0m\u001b[0;34m(\u001b[0m\u001b[0mdata\u001b[0m\u001b[0;34m[\u001b[0m\u001b[0;34m'in'\u001b[0m\u001b[0;34m]\u001b[0m\u001b[0;34m[\u001b[0m\u001b[0mx\u001b[0m\u001b[0;34m]\u001b[0m\u001b[0;34m,\u001b[0m \u001b[0mdata\u001b[0m\u001b[0;34m[\u001b[0m\u001b[0;34m'out'\u001b[0m\u001b[0;34m]\u001b[0m\u001b[0;34m[\u001b[0m\u001b[0mx\u001b[0m\u001b[0;34m]\u001b[0m\u001b[0;34m)\u001b[0m \u001b[0;32mfor\u001b[0m \u001b[0mx\u001b[0m \u001b[0;32min\u001b[0m \u001b[0mrange\u001b[0m\u001b[0;34m(\u001b[0m\u001b[0mlen\u001b[0m\u001b[0;34m(\u001b[0m\u001b[0mdata\u001b[0m\u001b[0;34m)\u001b[0m\u001b[0;34m)\u001b[0m\u001b[0;34m]\u001b[0m\u001b[0;34m)\u001b[0m\u001b[0;34m\u001b[0m\u001b[0m\n\u001b[0m\u001b[1;32m      3\u001b[0m \u001b[0;34m\u001b[0m\u001b[0m\n\u001b[1;32m      4\u001b[0m \u001b[0;31m# group the dates with the total screentime hours\u001b[0m\u001b[0;34m\u001b[0m\u001b[0;34m\u001b[0m\u001b[0m\n\u001b[1;32m      5\u001b[0m \u001b[0mdata_2\u001b[0m \u001b[0;34m=\u001b[0m \u001b[0mpd\u001b[0m\u001b[0;34m.\u001b[0m\u001b[0mDataFrame\u001b[0m\u001b[0;34m(\u001b[0m\u001b[0mdata_2\u001b[0m\u001b[0;34m.\u001b[0m\u001b[0mgroupby\u001b[0m\u001b[0;34m(\u001b[0m\u001b[0;34m[\u001b[0m\u001b[0;34m'day'\u001b[0m\u001b[0;34m]\u001b[0m\u001b[0;34m)\u001b[0m\u001b[0;34m[\u001b[0m\u001b[0;34m'values'\u001b[0m\u001b[0;34m]\u001b[0m\u001b[0;34m.\u001b[0m\u001b[0msum\u001b[0m\u001b[0;34m(\u001b[0m\u001b[0;34m)\u001b[0m\u001b[0;34m)\u001b[0m\u001b[0;34m\u001b[0m\u001b[0m\n",
      "\u001b[0;32m<ipython-input-4-aa55f84df455>\u001b[0m in \u001b[0;36mget_time\u001b[0;34m(time_string_a, time_string_b)\u001b[0m\n\u001b[1;32m     24\u001b[0m         \u001b[0;31m# separate the hours and minutes and create a string\u001b[0m\u001b[0;34m\u001b[0m\u001b[0;34m\u001b[0m\u001b[0m\n\u001b[1;32m     25\u001b[0m         \u001b[0mtotal_seconds\u001b[0m \u001b[0;34m=\u001b[0m \u001b[0mtdelta\u001b[0m\u001b[0;34m.\u001b[0m\u001b[0mtotal_seconds\u001b[0m\u001b[0;34m(\u001b[0m\u001b[0;34m)\u001b[0m\u001b[0;34m\u001b[0m\u001b[0m\n\u001b[0;32m---> 26\u001b[0;31m         \u001b[0mh\u001b[0m \u001b[0;34m=\u001b[0m \u001b[0mtotsec\u001b[0m\u001b[0;34m//\u001b[0m\u001b[0;36m3600\u001b[0m\u001b[0;34m\u001b[0m\u001b[0m\n\u001b[0m\u001b[1;32m     27\u001b[0m         \u001b[0mm\u001b[0m \u001b[0;34m=\u001b[0m \u001b[0;34m(\u001b[0m\u001b[0mtotsec\u001b[0m\u001b[0;34m%\u001b[0m\u001b[0;36m3600\u001b[0m\u001b[0;34m)\u001b[0m \u001b[0;34m//\u001b[0m \u001b[0;36m60\u001b[0m\u001b[0;34m\u001b[0m\u001b[0m\n\u001b[1;32m     28\u001b[0m \u001b[0;34m\u001b[0m\u001b[0m\n",
      "\u001b[0;31mNameError\u001b[0m: name 'totsec' is not defined"
     ]
    }
   ],
   "source": [
    "# set the values\n",
    "data_2 = data.assign(values = [get_time(data['in'][x], data['out'][x]) for x in range(len(data))])\n",
    "\n",
    "# group the dates with the total screentime hours\n",
    "data_2 = pd.DataFrame(data_2.groupby(['day'])['values'].sum())\n",
    "\n",
    "plt.tick_params(axis='x', which='major', width=150, labelsize=15, rotation=45)\n",
    "\n",
    "# set the size of the plot\n",
    "plt.gcf().set_size_inches(22, 16)\n",
    "sns.barplot(x=data_2.index, y=data_2['values'], data=data_2)\n",
    "plt.show()"
   ]
  },
  {
   "cell_type": "code",
   "execution_count": null,
   "metadata": {},
   "outputs": [],
   "source": [
    "# set the background to black\n",
    "plt.style.use('dark_background')\n",
    "\n",
    "# prepare the data\n",
    "data_3 = data.assign(values = [get_time(data['in'][x], data['out'][x]) for x in range(len(data))])\n",
    "\n",
    "# set the y limit\n",
    "plt.ylim(0, max(list(map(get_minutes, data_3['screentime']))))\n",
    "\n",
    "# set the size of the plot\n",
    "plt.gcf().set_size_inches(16, 14)\n",
    "\n",
    "# adjust the ticks and label params\n",
    "plt.tick_params(axis='x', which='major', width=150, labelsize=15, rotation=45)\n",
    "\n",
    "# create the barplot\n",
    "sns.barplot(x='day', y=list(map(get_minutes, data_3['screentime'])), hue='didicode', data=data_3)\n",
    "plt.show()"
   ]
  }
 ],
 "metadata": {
  "kernelspec": {
   "display_name": "Python 3",
   "language": "python",
   "name": "python3"
  },
  "language_info": {
   "codemirror_mode": {
    "name": "ipython",
    "version": 3
   },
   "file_extension": ".py",
   "mimetype": "text/x-python",
   "name": "python",
   "nbconvert_exporter": "python",
   "pygments_lexer": "ipython3",
   "version": "3.6.5"
  }
 },
 "nbformat": 4,
 "nbformat_minor": 2
}
